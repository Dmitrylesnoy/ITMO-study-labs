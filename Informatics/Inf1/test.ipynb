{
 "cells": [
  {
   "attachments": {
    "image.png": {
     "image/png": "[encoded data removed]"
    }
   },
   "cell_type": "markdown",
   "metadata": {},
   "source": [
    "![image.png](attachment:image.png)"
   ]
  },
  {
   "cell_type": "code",
   "execution_count": 5,
   "metadata": {},
   "outputs": [
    {
     "name": "stdout",
     "output_type": "stream",
     "text": [
      "(1, 2, 3, 4, 5) 0\n",
      "(1, 2, 3, 5, 4) 1\n",
      "(1, 2, 4, 3, 5) 2\n",
      "(1, 2, 4, 5, 3) 3\n",
      "(1, 2, 5, 3, 4) 4\n",
      "(1, 2, 5, 4, 3) 5\n",
      "(1, 3, 2, 4, 5) 6\n",
      "(1, 3, 2, 5, 4) 7\n",
      "(1, 3, 4, 2, 5) 8\n",
      "(1, 3, 4, 5, 2) 9\n",
      "(1, 3, 5, 2, 4) 10\n",
      "(1, 3, 5, 4, 2) 11\n",
      "(1, 4, 2, 3, 5) 12\n",
      "(1, 4, 2, 5, 3) 13\n",
      "(1, 4, 3, 2, 5) 14\n",
      "(1, 4, 3, 5, 2) 15\n",
      "(1, 4, 5, 2, 3) 16\n",
      "(1, 4, 5, 3, 2) 17\n",
      "(1, 5, 2, 3, 4) 18\n",
      "(1, 5, 2, 4, 3) 19\n",
      "(1, 5, 3, 2, 4) 20\n",
      "(1, 5, 3, 4, 2) 21\n",
      "(1, 5, 4, 2, 3) 22\n",
      "(1, 5, 4, 3, 2) 23\n",
      "(2, 1, 3, 4, 5) 24\n",
      "(2, 1, 3, 5, 4) 25\n",
      "(2, 1, 4, 3, 5) 26\n",
      "(2, 1, 4, 5, 3) 27\n",
      "(2, 1, 5, 3, 4) 28\n",
      "(2, 1, 5, 4, 3) 29\n",
      "(2, 3, 1, 4, 5) 30\n",
      "(2, 3, 1, 5, 4) 31\n",
      "(2, 3, 4, 1, 5) 32\n",
      "(2, 3, 4, 5, 1) 33\n",
      "(2, 3, 5, 1, 4) 34\n",
      "(2, 3, 5, 4, 1) 35\n",
      "(2, 4, 1, 3, 5) 36\n",
      "(2, 4, 1, 5, 3) 37\n",
      "(2, 4, 3, 1, 5) 38\n",
      "(2, 4, 3, 5, 1) 39\n",
      "(2, 4, 5, 1, 3) 40\n",
      "(2, 4, 5, 3, 1) 41\n",
      "(2, 5, 1, 3, 4) 42\n",
      "(2, 5, 1, 4, 3) 43\n",
      "(2, 5, 3, 1, 4) 44\n",
      "(2, 5, 3, 4, 1) 45\n",
      "(2, 5, 4, 1, 3) 46\n",
      "(2, 5, 4, 3, 1) 47\n",
      "(3, 1, 2, 4, 5) 48\n",
      "(3, 1, 2, 5, 4) 49\n",
      "(3, 1, 4, 2, 5) 50\n",
      "(3, 1, 4, 5, 2) 51\n",
      "(3, 1, 5, 2, 4) 52\n",
      "(3, 1, 5, 4, 2) 53\n",
      "(3, 2, 1, 4, 5) 54\n",
      "(3, 2, 1, 5, 4) 55\n",
      "(3, 2, 4, 1, 5) 56\n",
      "(3, 2, 4, 5, 1) 57\n",
      "(3, 2, 5, 1, 4) 58\n",
      "(3, 2, 5, 4, 1) 59\n",
      "(3, 4, 1, 2, 5) 60\n",
      "(3, 4, 1, 5, 2) 61\n",
      "(3, 4, 2, 1, 5) 62\n",
      "(3, 4, 2, 5, 1) 63\n",
      "(3, 4, 5, 1, 2) 64\n",
      "(3, 4, 5, 2, 1) 65\n",
      "(3, 5, 1, 2, 4) 66\n",
      "(3, 5, 1, 4, 2) 67\n",
      "(3, 5, 2, 1, 4) 68\n",
      "(3, 5, 2, 4, 1) 69\n",
      "(3, 5, 4, 1, 2) 70\n",
      "(3, 5, 4, 2, 1) 71\n",
      "(4, 1, 2, 3, 5) 72\n",
      "(4, 1, 2, 5, 3) 73\n",
      "(4, 1, 3, 2, 5) 74\n",
      "(4, 1, 3, 5, 2) 75\n",
      "(4, 1, 5, 2, 3) 76\n",
      "(4, 1, 5, 3, 2) 77\n",
      "(4, 2, 1, 3, 5) 78\n",
      "(4, 2, 1, 5, 3) 79\n",
      "(4, 2, 3, 1, 5) 80\n",
      "(4, 2, 3, 5, 1) 81\n",
      "(4, 2, 5, 1, 3) 82\n",
      "(4, 2, 5, 3, 1) 83\n",
      "(4, 3, 1, 2, 5) 84\n",
      "(4, 3, 1, 5, 2) 85\n",
      "(4, 3, 2, 1, 5) 86\n",
      "(4, 3, 2, 5, 1) 87\n",
      "(4, 3, 5, 1, 2) 88\n",
      "(4, 3, 5, 2, 1) 89\n",
      "(4, 5, 1, 2, 3) 90\n",
      "(4, 5, 1, 3, 2) 91\n",
      "(4, 5, 2, 1, 3) 92\n",
      "(4, 5, 2, 3, 1) 93\n",
      "(4, 5, 3, 1, 2) 94\n",
      "(4, 5, 3, 2, 1) 95\n",
      "(5, 1, 2, 3, 4) 96\n",
      "(5, 1, 2, 4, 3) 97\n",
      "(5, 1, 3, 2, 4) 98\n",
      "(5, 1, 3, 4, 2) 99\n",
      "(5, 1, 4, 2, 3) 100\n",
      "(5, 1, 4, 3, 2) 101\n",
      "(5, 2, 1, 3, 4) 102\n",
      "(5, 2, 1, 4, 3) 103\n",
      "(5, 2, 3, 1, 4) 104\n",
      "(5, 2, 3, 4, 1) 105\n",
      "(5, 2, 4, 1, 3) 106\n",
      "(5, 2, 4, 3, 1) 107\n"
     ]
    }
   ],
   "source": [
    "from itertools import permutations\n",
    "\n",
    "k=0\n",
    "for i in permutations([1,2,3,4,5]):\n",
    "    print(i, k)\n",
    "    if i==(5,2,4,3,1): break\n",
    "    k+=1\n",
    "    \n"
   ]
  },
  {
   "cell_type": "code",
   "execution_count": 9,
   "metadata": {},
   "outputs": [
    {
     "data": {
      "text/plain": [
       "4194.304"
      ]
     },
     "execution_count": 9,
     "metadata": {},
     "output_type": "execute_result"
    }
   ],
   "source": [
    "(4*1024*1024)/1000"
   ]
  },
  {
   "cell_type": "code",
   "execution_count": 7,
   "metadata": {},
   "outputs": [
    {
     "name": "stdout",
     "output_type": "stream",
     "text": [
      "42\n"
     ]
    }
   ],
   "source": [
    "print(':3' and 42)"
   ]
  },
  {
   "cell_type": "code",
   "execution_count": null,
   "metadata": {},
   "outputs": [
    {
     "name": "stdout",
     "output_type": "stream",
     "text": [
      "<re.Match object; span=(0, 5), match='Слова'>\n"
     ]
    }
   ],
   "source": [
    "import re\n",
    "print(re.match(r'\\\".*\\\"','Слова \"регулярка\" и \"отдебажить\" являются жаргоном.'))"
   ]
  },
  {
   "cell_type": "code",
   "execution_count": null,
   "metadata": {},
   "outputs": [],
   "source": [
    "print()"
   ]
  }
 ],
 "metadata": {
  "kernelspec": {
   "display_name": "Python 3",
   "language": "python",
   "name": "python3"
  },
  "language_info": {
   "codemirror_mode": {
    "name": "ipython",
    "version": 3
   },
   "file_extension": ".py",
   "mimetype": "text/x-python",
   "name": "python",
   "nbconvert_exporter": "python",
   "pygments_lexer": "ipython3",
   "version": "3.11.9"
  }
 },
 "nbformat": 4,
 "nbformat_minor": 2
}
